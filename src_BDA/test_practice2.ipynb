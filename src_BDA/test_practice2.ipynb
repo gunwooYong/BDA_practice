{
 "cells": [
  {
   "cell_type": "code",
   "execution_count": 4,
   "metadata": {},
   "outputs": [],
   "source": [
    "import numpy as np\n",
    "import matplotlib.pyplot as plt\n",
    "import pandas as pd\n",
    "from pandas import DataFrame as df\n",
    "\n",
    "import sklearn\n",
    "from sklearn.preprocessing import LabelEncoder, OneHotEncoder, MinMaxScaler, StandardScaler, RobustScaler\n",
    "from sklearn.model_selection import train_test_split, cross_val_score\n",
    "from sklearn.model_selection import KFold, RepeatedStratifiedKFold, GridSearchCV\n",
    "from sklearn.compose import ColumnTransformer\n",
    "from sklearn.pipeline import Pipeline\n",
    "from sklearn.metrics import accuracy_score, f1_score, roc_auc_score"
   ]
  },
  {
   "cell_type": "code",
   "execution_count": 111,
   "metadata": {},
   "outputs": [
    {
     "data": {
      "text/html": [
       "<div>\n",
       "<style scoped>\n",
       "    .dataframe tbody tr th:only-of-type {\n",
       "        vertical-align: middle;\n",
       "    }\n",
       "\n",
       "    .dataframe tbody tr th {\n",
       "        vertical-align: top;\n",
       "    }\n",
       "\n",
       "    .dataframe thead th {\n",
       "        text-align: right;\n",
       "    }\n",
       "</style>\n",
       "<table border=\"1\" class=\"dataframe\">\n",
       "  <thead>\n",
       "    <tr style=\"text-align: right;\">\n",
       "      <th></th>\n",
       "      <th>carat</th>\n",
       "      <th>cut</th>\n",
       "      <th>color</th>\n",
       "      <th>clarity</th>\n",
       "      <th>depth</th>\n",
       "      <th>table</th>\n",
       "      <th>price</th>\n",
       "      <th>x</th>\n",
       "      <th>y</th>\n",
       "      <th>z</th>\n",
       "    </tr>\n",
       "  </thead>\n",
       "  <tbody>\n",
       "    <tr>\n",
       "      <th>1</th>\n",
       "      <td>0.23</td>\n",
       "      <td>Ideal</td>\n",
       "      <td>E</td>\n",
       "      <td>SI2</td>\n",
       "      <td>61.5</td>\n",
       "      <td>55.0</td>\n",
       "      <td>326</td>\n",
       "      <td>3.95</td>\n",
       "      <td>3.98</td>\n",
       "      <td>2.43</td>\n",
       "    </tr>\n",
       "    <tr>\n",
       "      <th>2</th>\n",
       "      <td>0.21</td>\n",
       "      <td>Premium</td>\n",
       "      <td>E</td>\n",
       "      <td>SI1</td>\n",
       "      <td>59.8</td>\n",
       "      <td>61.0</td>\n",
       "      <td>326</td>\n",
       "      <td>3.89</td>\n",
       "      <td>3.84</td>\n",
       "      <td>2.31</td>\n",
       "    </tr>\n",
       "    <tr>\n",
       "      <th>3</th>\n",
       "      <td>0.23</td>\n",
       "      <td>Good</td>\n",
       "      <td>E</td>\n",
       "      <td>VS1</td>\n",
       "      <td>56.9</td>\n",
       "      <td>65.0</td>\n",
       "      <td>327</td>\n",
       "      <td>4.05</td>\n",
       "      <td>4.07</td>\n",
       "      <td>2.31</td>\n",
       "    </tr>\n",
       "    <tr>\n",
       "      <th>4</th>\n",
       "      <td>0.29</td>\n",
       "      <td>Premium</td>\n",
       "      <td>I</td>\n",
       "      <td>VS2</td>\n",
       "      <td>62.4</td>\n",
       "      <td>58.0</td>\n",
       "      <td>334</td>\n",
       "      <td>4.20</td>\n",
       "      <td>4.23</td>\n",
       "      <td>2.63</td>\n",
       "    </tr>\n",
       "    <tr>\n",
       "      <th>5</th>\n",
       "      <td>0.31</td>\n",
       "      <td>Good</td>\n",
       "      <td>J</td>\n",
       "      <td>SI2</td>\n",
       "      <td>63.3</td>\n",
       "      <td>58.0</td>\n",
       "      <td>335</td>\n",
       "      <td>4.34</td>\n",
       "      <td>4.35</td>\n",
       "      <td>2.75</td>\n",
       "    </tr>\n",
       "  </tbody>\n",
       "</table>\n",
       "</div>"
      ],
      "text/plain": [
       "   carat      cut color clarity  depth  table  price     x     y     z\n",
       "1   0.23    Ideal     E     SI2   61.5   55.0    326  3.95  3.98  2.43\n",
       "2   0.21  Premium     E     SI1   59.8   61.0    326  3.89  3.84  2.31\n",
       "3   0.23     Good     E     VS1   56.9   65.0    327  4.05  4.07  2.31\n",
       "4   0.29  Premium     I     VS2   62.4   58.0    334  4.20  4.23  2.63\n",
       "5   0.31     Good     J     SI2   63.3   58.0    335  4.34  4.35  2.75"
      ]
     },
     "execution_count": 111,
     "metadata": {},
     "output_type": "execute_result"
    }
   ],
   "source": [
    "df_ = pd.read_csv('https://raw.githubusercontent.com/Datamanim/dataq/main/diamonds.csv', index_col=0)\n",
    "df_.head()"
   ]
  },
  {
   "cell_type": "markdown",
   "metadata": {},
   "source": [
    "carat과 price의 경향을 비교하기 위한 scatterplot그래프를 출력하시오"
   ]
  },
  {
   "cell_type": "code",
   "execution_count": 12,
   "metadata": {},
   "outputs": [
    {
     "data": {
      "image/png": "[encoded data removed]",
      "text/plain": [
       "<Figure size 432x288 with 1 Axes>"
      ]
     },
     "metadata": {
      "needs_background": "light"
     },
     "output_type": "display_data"
    }
   ],
   "source": [
    "plt.scatter(df_.carat, df_.price)\n",
    "plt.xlabel('carat')\n",
    "plt.ylabel('price')\n",
    "plt.show()"
   ]
  },
  {
   "cell_type": "markdown",
   "metadata": {},
   "source": [
    "carat과 price사이의 상관계수와 상관계수의 p-value값은?"
   ]
  },
  {
   "cell_type": "code",
   "execution_count": 14,
   "metadata": {},
   "outputs": [
    {
     "name": "stdout",
     "output_type": "stream",
     "text": [
      "0.9215913011934779\n",
      "0.0\n"
     ]
    }
   ],
   "source": [
    "corr_val = df_.carat.corr(df_.price)\n",
    "print(corr_val)\n",
    "\n",
    "import scipy\n",
    "from scipy import stats\n",
    "\n",
    "corr_val_, p = stats.pearsonr(df_.carat, df_.price)\n",
    "print(p)"
   ]
  },
  {
   "cell_type": "markdown",
   "metadata": {},
   "source": [
    "Diamond의 평균가격은 3932로 알려져있다. ‘H’ color를 가지는 다이아몬드 집단의 평균에 대한 일표본 t검정을 시행하려한다. 통계량과 pvalue값을 구하시오. 유의수준 0.05에서 귀무가설 채택여부를 boolean 값으로 표현할 변수(hypo) 만들고 출력하시오"
   ]
  },
  {
   "cell_type": "code",
   "execution_count": 24,
   "metadata": {},
   "outputs": [
    {
     "name": "stdout",
     "output_type": "stream",
     "text": [
      "11.988997411117696 7.569973305218302e-33 False\n"
     ]
    }
   ],
   "source": [
    "H_diamonds = df_.loc[(df_.color=='H')]\n",
    "statistic, p = stats.ttest_1samp(H_diamonds.price, 3932)\n",
    "\n",
    "if p < 0.05:\n",
    "    hypo = False\n",
    "else:\n",
    "    hypo = True\n",
    "print(statistic, p, hypo)"
   ]
  },
  {
   "cell_type": "markdown",
   "metadata": {},
   "source": [
    "그래프상에서 ‘F’와 ‘G’는 평균이 유사해보인다.이를 확인하기 위해 집단간 등분산(levene,fligner,bartlett) 검정을 시행 후 결과를 출력하고조건에 맞는 독립표본 t검정을 시행하라"
   ]
  },
  {
   "cell_type": "code",
   "execution_count": 30,
   "metadata": {},
   "outputs": [
    {
     "name": "stdout",
     "output_type": "stream",
     "text": [
      "LeveneResult(statistic=53.627886257416655, pvalue=2.511093007074788e-13)\n",
      "FlignerResult(statistic=37.04347553879807, pvalue=1.155244880009172e-09)\n",
      "BartlettResult(statistic=47.52732212014331, pvalue=5.424264079257202e-12)\n",
      "Ttest_indResult(statistic=5.045279980436125, pvalue=4.567032122704146e-07)\n"
     ]
    }
   ],
   "source": [
    "F_diamonds = df_.loc[(df_.color=='F')]\n",
    "G_diamonds = df_.loc[(df_.color=='G')]\n",
    "\n",
    "lev_test = stats.levene(F_diamonds.price, G_diamonds.price)\n",
    "fli_test = stats.fligner(F_diamonds.price, G_diamonds.price)\n",
    "bar_test = stats.bartlett(F_diamonds.price, G_diamonds.price)\n",
    "\n",
    "print(lev_test)\n",
    "print(fli_test)\n",
    "print(bar_test)\n",
    "\n",
    "# p value가 0.05 이하이므로, 집단 간 분산이 같지 않다.\n",
    "\n",
    "FG_ttest = stats.ttest_ind(G_diamonds.price, F_diamonds.price, equal_var=False)\n",
    "print(FG_ttest)\n",
    "\n",
    "# p value가 0.05 이하이므로, 두 그룹의 평균은 같지 않다."
   ]
  },
  {
   "cell_type": "markdown",
   "metadata": {},
   "source": [
    "color ‘F’,’G’,’D’ 세집단의 price값들에 대해 anova분석을 시행하라."
   ]
  },
  {
   "cell_type": "code",
   "execution_count": 40,
   "metadata": {},
   "outputs": [
    {
     "name": "stdout",
     "output_type": "stream",
     "text": [
      "LeveneResult(statistic=118.97521469312785, pvalue=3.557425577381817e-52)\n",
      "FlignerResult(statistic=494.6459169558573, pvalue=3.881538382653629e-108)\n",
      "BartlettResult(statistic=289.1436443252346, pvalue=1.6340125811454025e-63)\n",
      "F_onewayResult(statistic=101.1811790316069, pvalue=1.6513790091285713e-44)\n"
     ]
    }
   ],
   "source": [
    "D_diamonds = df_.loc[(df_.color=='D')]\n",
    "\n",
    "lev_test = stats.levene(F_diamonds.price, G_diamonds.price, D_diamonds.price)\n",
    "fli_test = stats.fligner(F_diamonds.price, G_diamonds.price, D_diamonds.price)\n",
    "bar_test = stats.bartlett(F_diamonds.price, G_diamonds.price, D_diamonds.price)\n",
    "\n",
    "print(lev_test)\n",
    "print(fli_test)\n",
    "print(bar_test)\n",
    "\n",
    "#FG_KS = stats.kstest(F_diamonds.price, G_diamonds.price)\n",
    "#FD_KS = stats.kstest(F_diamonds.price, D_diamonds.price)\n",
    "#DG_KS = stats.kstest(D_diamonds.price, G_diamonds.price)\n",
    "# 정규성 검증 실패\n",
    "\n",
    "anova = stats.f_oneway(F_diamonds.price, G_diamonds.price, D_diamonds.price)\n",
    "print(anova)\n",
    "\n",
    "# 분산분석결과 p값이 0.05보다 작으므로, 귀무가설을 기각하고 유의수준 하에서 세 집단 중 어느 두 집단의 평균은 같지 않다."
   ]
  },
  {
   "cell_type": "markdown",
   "metadata": {},
   "source": [
    "연속형 변수(carat,depth,table,price,x,y,z) 각각의 이상치(1,3분위값에서 IQR*1.5 외의 값) 갯수를 데이터 프레임(변수명 ratio_df, 비율의 내림차순 정렬)으로 아래와 같이 나타내어라."
   ]
  },
  {
   "cell_type": "code",
   "execution_count": 48,
   "metadata": {},
   "outputs": [
    {
     "data": {
      "text/html": [
       "<div>\n",
       "<style scoped>\n",
       "    .dataframe tbody tr th:only-of-type {\n",
       "        vertical-align: middle;\n",
       "    }\n",
       "\n",
       "    .dataframe tbody tr th {\n",
       "        vertical-align: top;\n",
       "    }\n",
       "\n",
       "    .dataframe thead th {\n",
       "        text-align: right;\n",
       "    }\n",
       "</style>\n",
       "<table border=\"1\" class=\"dataframe\">\n",
       "  <thead>\n",
       "    <tr style=\"text-align: right;\">\n",
       "      <th></th>\n",
       "      <th>column</th>\n",
       "      <th>count</th>\n",
       "    </tr>\n",
       "  </thead>\n",
       "  <tbody>\n",
       "    <tr>\n",
       "      <th>3</th>\n",
       "      <td>price</td>\n",
       "      <td>3540</td>\n",
       "    </tr>\n",
       "    <tr>\n",
       "      <th>1</th>\n",
       "      <td>depth</td>\n",
       "      <td>2545</td>\n",
       "    </tr>\n",
       "    <tr>\n",
       "      <th>0</th>\n",
       "      <td>carat</td>\n",
       "      <td>1889</td>\n",
       "    </tr>\n",
       "    <tr>\n",
       "      <th>2</th>\n",
       "      <td>table</td>\n",
       "      <td>605</td>\n",
       "    </tr>\n",
       "    <tr>\n",
       "      <th>6</th>\n",
       "      <td>z</td>\n",
       "      <td>49</td>\n",
       "    </tr>\n",
       "    <tr>\n",
       "      <th>4</th>\n",
       "      <td>x</td>\n",
       "      <td>32</td>\n",
       "    </tr>\n",
       "    <tr>\n",
       "      <th>5</th>\n",
       "      <td>y</td>\n",
       "      <td>29</td>\n",
       "    </tr>\n",
       "  </tbody>\n",
       "</table>\n",
       "</div>"
      ],
      "text/plain": [
       "  column  count\n",
       "3  price   3540\n",
       "1  depth   2545\n",
       "0  carat   1889\n",
       "2  table    605\n",
       "6      z     49\n",
       "4      x     32\n",
       "5      y     29"
      ]
     },
     "execution_count": 48,
     "metadata": {},
     "output_type": "execute_result"
    }
   ],
   "source": [
    "df_outliers = df_.loc[:,['carat', 'depth', 'table', 'price', 'x', 'y', 'z']]\n",
    "outliers_count = {}\n",
    "for head in df_outliers.keys():\n",
    "    count = 0\n",
    "    Q1 = df_outliers[head].quantile(.25)\n",
    "    Q3 = df_outliers[head].quantile(.75)\n",
    "    IQR = Q3-Q1\n",
    "    up_bound = Q3 + IQR*3/2\n",
    "    dw_bound = Q1 - IQR*3/2\n",
    "    for val in df_outliers[head]:\n",
    "        if val > up_bound:\n",
    "            count += 1\n",
    "        elif val < dw_bound:\n",
    "            count += 1\n",
    "    outliers_count[head] = count\n",
    "\n",
    "col_name, count = [], []\n",
    "for key, value in outliers_count.items():\n",
    "    col_name.append(key)\n",
    "    count.append(value)\n",
    "\n",
    "ratio_df = df({'column':col_name, 'count':count}).sort_values('count', ascending=False)\n",
    "ratio_df"
   ]
  },
  {
   "cell_type": "markdown",
   "metadata": {},
   "source": [
    "color에 따른 price의 max, min, 평균값을 colorDf 변수에 저장하고 아래와 같이 출력하는 코드를 작성하라"
   ]
  },
  {
   "cell_type": "code",
   "execution_count": 66,
   "metadata": {},
   "outputs": [
    {
     "name": "stdout",
     "output_type": "stream",
     "text": [
      "  color    max  min         mean\n",
      "0     G  18818  354  3999.135671\n",
      "1     E  18731  326  3076.752475\n",
      "2     F  18791  342  3724.886397\n",
      "3     H  18803  337  4486.669196\n",
      "4     D  18693  357  3169.954096\n",
      "5     I  18823  334  5091.874954\n",
      "6     J  18710  335  5323.818020\n"
     ]
    }
   ],
   "source": [
    "# print(df_.color.value_counts())\n",
    "G_color = df_.loc[(df_.color=='G')]\n",
    "E_color = df_.loc[(df_.color=='E')]\n",
    "F_color = df_.loc[(df_.color=='F')]\n",
    "H_color = df_.loc[(df_.color=='H')]\n",
    "D_color = df_.loc[(df_.color=='D')]\n",
    "I_color = df_.loc[(df_.color=='I')]\n",
    "J_color = df_.loc[(df_.color=='J')]\n",
    "\n",
    "G_val = ('G', G_color.price.max(), G_color.price.min(), G_color.price.mean())\n",
    "E_val = ('E', E_color.price.max(), E_color.price.min(), E_color.price.mean())\n",
    "F_val = ('F', F_color.price.max(), F_color.price.min(), F_color.price.mean())\n",
    "H_val = ('H', H_color.price.max(), H_color.price.min(), H_color.price.mean())\n",
    "D_val = ('D', D_color.price.max(), D_color.price.min(), D_color.price.mean())\n",
    "I_val = ('I', I_color.price.max(), I_color.price.min(), I_color.price.mean())\n",
    "J_val = ('J', J_color.price.max(), J_color.price.min(), J_color.price.mean())\n",
    "\n",
    "vals = [G_val, E_val, F_val, H_val, D_val, I_val, J_val]\n",
    "names, mins, maxs, means = [], [], [], []\n",
    "\n",
    "for name, Max, Min, Mean in vals:\n",
    "    names.append(name)\n",
    "    maxs.append(Max)\n",
    "    mins.append(Min)\n",
    "    means.append(Mean)\n",
    "\n",
    "colorDf = df({'color':names, 'max':maxs, 'min':mins, 'mean':means})\n",
    "print(colorDf)"
   ]
  },
  {
   "cell_type": "markdown",
   "metadata": {},
   "source": [
    "전체 데이터중 color의 발생빈도수에 따라 labelEncoding(빈도수 적은것 : 1, 빈도수 증가할수록 1씩증가)을 하고 colorLabel 컬럼에 저장하고 cut에 따른 colorLabel의 평균값을 구하여라"
   ]
  },
  {
   "cell_type": "code",
   "execution_count": 112,
   "metadata": {},
   "outputs": [
    {
     "name": "stdout",
     "output_type": "stream",
     "text": [
      "ideal  3.769152243515382\n",
      "premium  3.644913349285766\n",
      "very good  3.654361860619103\n",
      "good  3.562780269058296\n",
      "fair  3.5167701863354037\n"
     ]
    },
    {
     "name": "stderr",
     "output_type": "stream",
     "text": [
      "C:\\Users\\fogbo\\anaconda3\\envs\\first_env\\lib\\site-packages\\sklearn\\utils\\validation.py:72: DataConversionWarning: A column-vector y was passed when a 1d array was expected. Please change the shape of y to (n_samples, ), for example using ravel().\n",
      "  return f(**kwargs)\n"
     ]
    }
   ],
   "source": [
    "from sklearn.preprocessing import OrdinalEncoder\n",
    "G_count = len(G_color.index)\n",
    "E_count = len(E_color.index)\n",
    "F_count = len(F_color.index)\n",
    "H_count = len(H_color.index)\n",
    "D_count = len(D_color.index)\n",
    "I_count = len(I_color.index)\n",
    "J_count = len(J_color.index)\n",
    "\n",
    "df_['colorLabel'] = 0\n",
    "df_.loc[(df_.color=='G'), 'colorLabel'] = G_count\n",
    "df_.loc[(df_.color=='E'), 'colorLabel'] = E_count\n",
    "df_.loc[(df_.color=='F'), 'colorLabel'] = F_count\n",
    "df_.loc[(df_.color=='H'), 'colorLabel'] = H_count\n",
    "df_.loc[(df_.color=='D'), 'colorLabel'] = D_count\n",
    "df_.loc[(df_.color=='I'), 'colorLabel'] = I_count\n",
    "df_.loc[(df_.color=='J'), 'colorLabel'] = J_count\n",
    "# df_.head()\n",
    "\n",
    "encoder = LabelEncoder()\n",
    "np_colorLabel = np.array(df_.colorLabel)\n",
    "df_['colorLabel'] = encoder.fit_transform(np_colorLabel.reshape(-1,1))\n",
    "# df_.head()\n",
    "#print(encoder.inverse_transform([5]))\n",
    "ideal_cut = df_.loc[(df_.cut == 'Ideal')]\n",
    "premium_cut = df_.loc[(df_.cut=='Premium')]\n",
    "very_cut = df_.loc[(df_.cut=='Very Good')]\n",
    "good_cut = df_.loc[(df_.cut=='Good')]\n",
    "fair_cut = df_.loc[(df_.cut=='Fair')]\n",
    "\n",
    "print('ideal ', ideal_cut.colorLabel.mean())\n",
    "print('premium ', premium_cut.colorLabel.mean())\n",
    "print('very good ', very_cut.colorLabel.mean())\n",
    "print('good ', good_cut.colorLabel.mean())\n",
    "print('fair ', fair_cut.colorLabel.mean())"
   ]
  },
  {
   "cell_type": "markdown",
   "metadata": {},
   "source": [
    "price의 값에 따른 구간을 1000단위로 나누고 priceLabel 컬럼에 저장하라. 저장시 숫자 순으로 label하고(0~1000이하 : 0,1000초과~2000미만 :1 …) 최종적으로 구간별 갯수(변수명:labelCount)를 출력하라"
   ]
  },
  {
   "cell_type": "code",
   "execution_count": 114,
   "metadata": {},
   "outputs": [
    {
     "data": {
      "text/plain": [
       "0     14499\n",
       "1      9704\n",
       "2      6131\n",
       "4      4653\n",
       "3      4226\n",
       "5      3174\n",
       "6      2278\n",
       "7      1669\n",
       "8      1307\n",
       "9      1076\n",
       "10      935\n",
       "11      824\n",
       "12      702\n",
       "13      603\n",
       "15      514\n",
       "14      503\n",
       "16      424\n",
       "17      406\n",
       "18      312\n",
       "Name: priceLabel, dtype: int64"
      ]
     },
     "execution_count": 114,
     "metadata": {},
     "output_type": "execute_result"
    }
   ],
   "source": [
    "from sklearn.preprocessing import LabelBinarizer, Binarizer, KBinsDiscretizer\n",
    "\n",
    "df_['priceLabel'] = 18\n",
    "for i in range(17, -1, -1):\n",
    "    df_.loc[(df_.price < (i+1)*1000), 'priceLabel'] = i\n",
    "\n",
    "df_.priceLabel.value_counts()"
   ]
  }
 ],
 "metadata": {
  "kernelspec": {
   "display_name": "first_env",
   "language": "python",
   "name": "first_env"
  },
  "language_info": {
   "codemirror_mode": {
    "name": "ipython",
    "version": 3
   },
   "file_extension": ".py",
   "mimetype": "text/x-python",
   "name": "python",
   "nbconvert_exporter": "python",
   "pygments_lexer": "ipython3",
   "version": "3.8.3"
  }
 },
 "nbformat": 4,
 "nbformat_minor": 4
}
